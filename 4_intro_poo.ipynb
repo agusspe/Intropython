{
  "nbformat": 4,
  "nbformat_minor": 0,
  "metadata": {
    "instance_type": "ml.t3.medium",
    "kernelspec": {
      "display_name": "Python 3 (Data Science)",
      "language": "python",
      "name": "python3__SAGEMAKER_INTERNAL__arn:aws:sagemaker:us-east-1:081325390199:image/datascience-1.0"
    },
    "language_info": {
      "codemirror_mode": {
        "name": "ipython",
        "version": 3
      },
      "file_extension": ".py",
      "mimetype": "text/x-python",
      "name": "python",
      "nbconvert_exporter": "python",
      "pygments_lexer": "ipython3",
      "version": "3.7.6"
    },
    "colab": {
      "name": "4 - intro-poo.ipynb",
      "provenance": [],
      "include_colab_link": true
    }
  },
  "cells": [
    {
      "cell_type": "markdown",
      "metadata": {
        "id": "view-in-github",
        "colab_type": "text"
      },
      "source": [
        "<a href=\"https://colab.research.google.com/github/agusspe/Intropython/blob/main/4_intro_poo.ipynb\" target=\"_parent\"><img src=\"https://colab.research.google.com/assets/colab-badge.svg\" alt=\"Open In Colab\"/></a>"
      ]
    },
    {
      "cell_type": "markdown",
      "metadata": {
        "id": "44cPX2rfoANt"
      },
      "source": [
        "<a href=\"https://colab.research.google.com/github/institutohumai/cursos-python/blob/master/Introduccion/4_Intro_Poo/intro-poo.ipynb\"> <img src='https://colab.research.google.com/assets/colab-badge.svg' /> </a>\n",
        "<div align=\"center\"> Recordá abrir en una nueva pestaña </div>"
      ]
    },
    {
      "cell_type": "markdown",
      "metadata": {
        "id": "nGkigPqTmyZp"
      },
      "source": [
        "<h1 id=\"tocheading\">Programación orientada a objetos</h1>\n",
        "\n",
        "    I. Terminologia de clases y objetos\n",
        "    II. Creando la primera clase\n",
        "        I. Herencia\n",
        "        II. Protección de acceso\n",
        "    III. Métodos Especiales\n",
        "    IV. Métodos Estáticos\n",
        "    V. Duck typing y monkey patching\n",
        "        I. Duck typing\n",
        "        II. Monkey Patching"
      ]
    },
    {
      "cell_type": "markdown",
      "metadata": {
        "id": "JWZi0Jz7myZr"
      },
      "source": [
        "En el paradigma de programación orientada a objetos los programas se estructuran organizando el código en entidades llamadas objetos. Estos nos permiten encapsular data, funciones y variables dentro de una misma clase. Veamos de qué se trata."
      ]
    },
    {
      "cell_type": "markdown",
      "metadata": {
        "id": "8facntg8myZs"
      },
      "source": [
        "## Terminologia de clases y objetos"
      ]
    },
    {
      "cell_type": "markdown",
      "metadata": {
        "id": "f4-ocEflmyZs"
      },
      "source": [
        "1. Una **clase** es un prototipo de objeto, que engloba atributos que poseen todos los objetos de esa clase. Los atributos pueden ser datos como variables de clase y de instancia, y métodos (funciones). Se acceden con un punto.\n",
        "\n",
        "2. Una **instancia** es un objeto en particular que pertenece a una clase.\n",
        "\n",
        "3. Los **atributos** son variables asociadas a los objetos. Los atributos pueden ser de clase (toman el mismo valor para toda la clase) o de instancia (toman un valor diferente para cada instancia). Lo más común de utilizar son los atributos de instancia que reflejan estados de los objetos. Los atributos de clase se utilizan para que todos los objetos compartan por ejemplo, las mismas configuraciones o la misma conexión a una base de datos. \n",
        "\n",
        "4. La **herencia** es la transferencia de atributos de una clase a otra clase\n",
        "\n",
        "5. Un **método** es una función contenida dentro de un objeto.\n",
        "\n",
        "6. Un **objeto** es una instancia única de una estructura definida por su clase. Posee de atributos variables de clase, de instancia y métodos.\n",
        "\n"
      ]
    },
    {
      "cell_type": "markdown",
      "metadata": {
        "id": "WL8GajTfmyZt"
      },
      "source": [
        "## Creando la primera clase"
      ]
    },
    {
      "cell_type": "code",
      "metadata": {
        "id": "38y7svlPoAN4"
      },
      "source": [
        "import math"
      ],
      "execution_count": null,
      "outputs": []
    },
    {
      "cell_type": "code",
      "metadata": {
        "id": "cmxKLcSWoAN5",
        "colab": {
          "base_uri": "https://localhost:8080/"
        },
        "outputId": "654044e7-de2e-4c14-e9f7-f0ff23342b37"
      },
      "source": [
        "#La sintáxis es:\n",
        "\n",
        "class Ejemplo:\n",
        "    pass\n",
        "\n",
        "# Instancio la clase\n",
        "x = Ejemplo()\n",
        "\n",
        "print(type(x))\n",
        "\n",
        "# El tipo de x es Ejemplo"
      ],
      "execution_count": null,
      "outputs": [
        {
          "output_type": "stream",
          "text": [
            "<class '__main__.Ejemplo'>\n"
          ],
          "name": "stdout"
        }
      ]
    },
    {
      "cell_type": "markdown",
      "metadata": {
        "id": "w6LtjCUCoAN5"
      },
      "source": [
        "Por convención, las clases se nombran empleando \"Upper Camel Case\". Es decir, con mayúscula para cada término que sea parte del nombre. "
      ]
    },
    {
      "cell_type": "markdown",
      "metadata": {
        "id": "Mzp9eqRnoAN5"
      },
      "source": [
        "Una librería famosa en Python por sus clases es \"requests\". Esta ĺibrería se usa para acceder a información web por HTTP. Algunas de sus clases son:\n",
        "\n",
        "- Session\n",
        "- Request\n",
        "- ConnectionError\n",
        "- ConnectTimeout\n",
        "\n",
        "Las últimas dos clases son para especificar errores, noten que se repiten las mayúsculas."
      ]
    },
    {
      "cell_type": "markdown",
      "metadata": {
        "id": "MA8kIu4OoAN6"
      },
      "source": [
        "Podemos pensar a una clase como un molde, el cual usamos para generar objetos o instancias que tienen ciertos atributos o métodos (funciones) que deseamos mantener.\n",
        "\n",
        "Aquellos atributos y métodos que queremos que los objetos conserven son definidos como parte del constructor. El constructor en Python es el método reservado **\\_\\_init\\_\\_()**. Este método se llama cuando se instancia la clase y en ese momento se inicializan los atributos de la clase, para lo cual podemos pasar parámetros.\n",
        "\n",
        "Además, vamos a emplear el término reservado **self** para indicar aquellos atributos y métodos que van a ser propios de la instancia. Veámoslo con un ejemplo."
      ]
    },
    {
      "cell_type": "markdown",
      "metadata": {
        "id": "ReUrwBZCoAN7"
      },
      "source": [
        "## Init y Self"
      ]
    },
    {
      "cell_type": "code",
      "metadata": {
        "id": "ru6DucmamyZ7"
      },
      "source": [
        "#__init__ es una sintaxis reservada. Ponemos cosas adentro de la clase persona\n",
        "\n",
        "class Persona():\n",
        "    def __init__(self, nombre, apellido, edad = 18, contacto=\"\"):\n",
        "        # Este método puede tomar parámetros que asignamos a los atributos, que \n",
        "        # luego podemos acceder\n",
        "        self.edad = edad # este es un atributo\n",
        "        self.contacto = contacto # este es otro atributo\n",
        "        self.nombre = nombre\n",
        "        self.apellido = apellido\n",
        "\n",
        "## el primer valor (self) es el objeto que se está creando\n",
        "## edad = 18 es un valor por default, contacto igual comillas si suele estar vacio\n",
        "## estas son \"variables de instacia\" tienen un nombre y un valor que les corresponde\n",
        "        \n",
        "    def nombre_completo(self):\n",
        "        # este método muestra el nombre completo a partir del nombre y apellido \n",
        "        nombre_completo = ', '.join([self.apellido,self.nombre])\n",
        "        return nombre_completo\n",
        "\n",
        "    def saludar(self):\n",
        "        print(f'Hola mi nombre es {self.nombre_completo()}',\n",
        "              f'y te dejo mi mail por si necesitás algo: {self.contacto}')"
      ],
      "execution_count": null,
      "outputs": []
    },
    {
      "cell_type": "code",
      "metadata": {
        "colab": {
          "base_uri": "https://localhost:8080/",
          "height": 51
        },
        "id": "-3AWihITmyZ-",
        "scrolled": true,
        "outputId": "cbe535a4-e3bc-499f-a956-027f7affc2ac"
      },
      "source": [
        "instancia_ejemplo = Persona('Matías Andrés','Ripley', 24, 'mati@rip.com')\n",
        "instancia_ejemplo.saludar()"
      ],
      "execution_count": null,
      "outputs": [
        {
          "output_type": "stream",
          "text": [
            "Hola mi nombre es Ripley, Matías Andrés y te dejo mi mail por si necesitás algo: mati@rip.com\n"
          ],
          "name": "stdout"
        }
      ]
    },
    {
      "cell_type": "markdown",
      "metadata": {
        "id": "2U7aTtZNoAN9"
      },
      "source": [
        "Ahora veamos una clase menú que administra los platos y los precios"
      ]
    },
    {
      "cell_type": "code",
      "metadata": {
        "id": "l-Du3xzRoAN9"
      },
      "source": [
        "class Menu():\n",
        "    def __init__(self, items):\n",
        "        self.items = items\n",
        "    \n",
        "    def precio(self, lista_items):\n",
        "        precio = 0\n",
        "        for nombre_item in lista_items:\n",
        "            precio = precio + self.items[nombre_item] # llave entrega valor\n",
        "        return precio\n",
        "    \n",
        "    def tamaño(self):\n",
        "        return len(self.items)\n",
        "            "
      ],
      "execution_count": null,
      "outputs": []
    },
    {
      "cell_type": "code",
      "metadata": {
        "id": "-qHxFtFqoAN-"
      },
      "source": [
        "mi_menu = Menu({'latte':25, 'medialuna':15}) \n",
        "# Instancio menú con un DICT de items, es solo un argumento, pues llaves"
      ],
      "execution_count": null,
      "outputs": []
    },
    {
      "cell_type": "markdown",
      "metadata": {
        "id": "aJ0eixiQoAN-"
      },
      "source": [
        "¿Cuánto salen un latte y dos madialunas? ¿Cuántos ítems tenemos?"
      ]
    },
    {
      "cell_type": "code",
      "metadata": {
        "id": "XMjbvqutoAN-",
        "colab": {
          "base_uri": "https://localhost:8080/"
        },
        "outputId": "3bdb67f1-11aa-4935-966b-c6c51a2b59a4"
      },
      "source": [
        "mi_menu.precio(['latte','medialuna','medialuna'])\n",
        "# Acá ingreso una LISTA de items"
      ],
      "execution_count": null,
      "outputs": [
        {
          "output_type": "execute_result",
          "data": {
            "text/plain": [
              "55"
            ]
          },
          "metadata": {
            "tags": []
          },
          "execution_count": 4
        }
      ]
    },
    {
      "cell_type": "code",
      "metadata": {
        "id": "xujSJAgVoAN_",
        "colab": {
          "base_uri": "https://localhost:8080/"
        },
        "outputId": "5a1852b2-f139-4a97-b4ac-f496e248c2a3"
      },
      "source": [
        "mi_menu.tamaño()"
      ],
      "execution_count": null,
      "outputs": [
        {
          "output_type": "execute_result",
          "data": {
            "text/plain": [
              "2"
            ]
          },
          "metadata": {
            "tags": []
          },
          "execution_count": 5
        }
      ]
    },
    {
      "cell_type": "markdown",
      "metadata": {
        "id": "n7D_7nMgoAN_"
      },
      "source": [
        "Ejercicio: Vamos a mejorar la clase anterior... En lugar de que el método precio reciba una lista de strings, hagamos que reciba una lista de diccionarios cada uno con dos claves nombre y cantidad que querríamos ordenar ¿Cuántos cuestan 10 lattes y 30 medialunas?"
      ]
    },
    {
      "cell_type": "code",
      "metadata": {
        "id": "ZAg6xHepoAN_"
      },
      "source": [
        "class Menu():\n",
        "    def __init__(self, items):\n",
        "        self.items = items\n",
        "    \n",
        "    def precio(self, lista_items):\n",
        "        precio = 0\n",
        "        for pedido in lista_items:\n",
        "            # Leemos el diccionario\n",
        "            nombre = pedido['nombre']\n",
        "            cantidad = pedido['cantidad']\n",
        "            # Buscamos el precio en los ítems del menú\n",
        "            precio_unidad = self.items[nombre]        \n",
        "            # Agregamos el total de cada ítem\n",
        "            precio = precio + precio_unidad * cantidad\n",
        "        return precio\n",
        "    \n",
        "    def tamaño(self):\n",
        "        return len(self.items)         "
      ],
      "execution_count": null,
      "outputs": []
    },
    {
      "cell_type": "code",
      "metadata": {
        "id": "gxhmQs8AoAOA"
      },
      "source": [
        "mi_menu = Menu({'latte':25, 'medialuna':15})\n",
        "#Defino los precios\n"
      ],
      "execution_count": null,
      "outputs": []
    },
    {
      "cell_type": "code",
      "metadata": {
        "id": "K9UhgIaVoAOA",
        "colab": {
          "base_uri": "https://localhost:8080/"
        },
        "outputId": "b8ece6e2-45c3-494e-b9b3-dd7246b0e443"
      },
      "source": [
        "mi_menu.precio([{'nombre':'latte','cantidad':10},\n",
        "                {'nombre':'medialuna','cantidad':30}])\n",
        "#defino las cantidades"
      ],
      "execution_count": null,
      "outputs": [
        {
          "output_type": "execute_result",
          "data": {
            "text/plain": [
              "700"
            ]
          },
          "metadata": {
            "tags": []
          },
          "execution_count": 23
        }
      ]
    },
    {
      "cell_type": "markdown",
      "metadata": {
        "id": "PJ-GzKB_oAOA"
      },
      "source": [
        "Los *atributos* también son conocidos como *variables de instancia*, en contraposición a las variables de clase. Las variables de instancia *toman un valor específico* a una instancia en particular (por eso se emplea el término **self**), por su parte, las variables de clase tienen un valor común para todas las instancias de una clase. Por convención las variables de clase se definen antes del constructor y no llevan **self** en su definición pero sí cuando se la quiere llamar."
      ]
    },
    {
      "cell_type": "code",
      "metadata": {
        "id": "ffB3W0b9pz3g"
      },
      "source": [
        "class Curso: #sin parentesis\n",
        "    max_alumnos = 35 # definimos variable de clase #No hace falta self.\n",
        "                     # Todos los cursos tienen un maximos de 35\n",
        "\n",
        "    def __init__(self, nombre, duracion, alumnos = None, costo=10):\n",
        "        self.nombre = nombre\n",
        "        self.duracion = duracion\n",
        "        if alumnos is None:\n",
        "            self.alumnos = []\n",
        "        else:\n",
        "            self.alumnos = alumnos\n",
        "        self.costo = costo # costo tiene un valor por default\n",
        "        \"\"\"¿Por qué ese if? Las variables por default sólo se evalúan a la hora de ejecutar la sentencia def. \n",
        "        En nuestro caso necesitamos que self.alumnos sea una lista y las listas son objetos mutables. \n",
        "        Esto quiere decir que podemos modificarla sin volver a asignarla. Si en vez de 'alumnos = None' usáramos\n",
        "        alumnos = [], entonces con cada nueva instancia del objeto estaríamos compartiendo los alumnos.\n",
        "        Para evitar eso, en general la forma pythónica de hacerlo es usando None por default y asignando el valor\n",
        "        deseado dentro de la función y no en el 'def' \"\"\"\n",
        "\n",
        "    def inscribir_alumno(self, nombre): #además de self se agrega algo a \"nombre\"\n",
        "        self.alumnos.append(nombre) # para poder llamar a alumnos tengo que usar self.\n",
        "        print(f'Se agregó al alumno/a {nombre}')\n",
        "\n",
        "    def tomar_lista(self): #acá en cambio no se modifica nada en los argumentos\n",
        "        for a in self.alumnos:\n",
        "            print(f'Alumno: {a}')\n",
        "\n",
        "    def resumen(self):\n",
        "        print(f'Curso {self.nombre}, {self.duracion} clases pensadas para {len(self.alumnos)} alumnos\\n'\n",
        "              f'Por el muy módico precio de {self.costo} rupias.',\n",
        "              # llamo variable de clase:\n",
        "              f'La ocupación actual es del {round(len(self.alumnos)/self.max_alumnos,2)*100}%') "
      ],
      "execution_count": null,
      "outputs": []
    },
    {
      "cell_type": "code",
      "metadata": {
        "id": "XmX4l4IF_eTI"
      },
      "source": [
        "curso_python = Curso('Python', 6) #los valores que ya tienen uno por defecto pueden no agregarse"
      ],
      "execution_count": null,
      "outputs": []
    },
    {
      "cell_type": "code",
      "metadata": {
        "id": "9mmljZM0oAOB",
        "colab": {
          "base_uri": "https://localhost:8080/"
        },
        "outputId": "5b5f36c0-b6de-4b5b-f3f5-8ef4de0d2a29"
      },
      "source": [
        "curso_python.alumnos"
      ],
      "execution_count": null,
      "outputs": [
        {
          "output_type": "execute_result",
          "data": {
            "text/plain": [
              "[]"
            ]
          },
          "metadata": {
            "tags": []
          },
          "execution_count": 11
        }
      ]
    },
    {
      "cell_type": "code",
      "metadata": {
        "colab": {
          "base_uri": "https://localhost:8080/"
        },
        "id": "MnRKu_2M_sxP",
        "outputId": "e95b6d52-ad43-4200-c0eb-fb90ebd7f797"
      },
      "source": [
        "# Llamamos metodos de la instancia\n",
        "curso_python.inscribir_alumno('Diotimia')\n",
        "curso_python.inscribir_alumno('Aritófanes')"
      ],
      "execution_count": null,
      "outputs": [
        {
          "output_type": "stream",
          "text": [
            "Se agregó al alumno/a Diotimia\n",
            "Se agregó al alumno/a Aritófanes\n"
          ],
          "name": "stdout"
        }
      ]
    },
    {
      "cell_type": "code",
      "metadata": {
        "colab": {
          "base_uri": "https://localhost:8080/",
          "height": 51
        },
        "id": "gFvzeuDn_yNf",
        "outputId": "2c62cced-2a98-41e6-a2c0-7a372038c02c"
      },
      "source": [
        "curso_python.tomar_lista()"
      ],
      "execution_count": null,
      "outputs": [
        {
          "output_type": "stream",
          "text": [
            "Alumno: Diotimia\n",
            "Alumno: Aritófanes\n"
          ],
          "name": "stdout"
        }
      ]
    },
    {
      "cell_type": "code",
      "metadata": {
        "colab": {
          "base_uri": "https://localhost:8080/",
          "height": 51
        },
        "id": "AqkOrzAavtQf",
        "outputId": "3a20c0cd-a11d-49b2-b1e7-05c241aae760"
      },
      "source": [
        "curso_python.resumen()"
      ],
      "execution_count": null,
      "outputs": [
        {
          "output_type": "stream",
          "text": [
            "Curso Python, 6 clases pensadas para 2 alumnos\n",
            "Por el muy módico precio de 10 rupias. La ocupación actual es del 6.0%\n"
          ],
          "name": "stdout"
        }
      ]
    },
    {
      "cell_type": "code",
      "metadata": {
        "id": "3LeF5S-uoAOF"
      },
      "source": [
        "curso_ml = Curso('Machine Learning', 8)"
      ],
      "execution_count": null,
      "outputs": []
    },
    {
      "cell_type": "code",
      "metadata": {
        "id": "xDMmlKoaoAOF",
        "colab": {
          "base_uri": "https://localhost:8080/"
        },
        "outputId": "9fcea038-b2c7-4482-b34c-5786197da19b"
      },
      "source": [
        "curso_ml.alumnos # vean que el curso está vacío!"
      ],
      "execution_count": null,
      "outputs": [
        {
          "output_type": "execute_result",
          "data": {
            "text/plain": [
              "[]"
            ]
          },
          "metadata": {
            "tags": []
          },
          "execution_count": 19
        }
      ]
    },
    {
      "cell_type": "code",
      "metadata": {
        "id": "9Yg5VJURoAOF",
        "colab": {
          "base_uri": "https://localhost:8080/"
        },
        "outputId": "ffc59d0d-a608-49f8-9522-6edefa2b6c30"
      },
      "source": [
        "curso_ml = Curso('Machine Learning', 8)\n",
        "curso_ml.inscribir_alumno('Agatón')\n",
        "curso_ml.inscribir_alumno('Erixímaco')\n",
        "curso_ml.inscribir_alumno('Sócrates')"
      ],
      "execution_count": null,
      "outputs": [
        {
          "output_type": "stream",
          "text": [
            "Se agregó al alumno/a Agatón\n",
            "Se agregó al alumno/a Erixímaco\n",
            "Se agregó al alumno/a Sócrates\n"
          ],
          "name": "stdout"
        }
      ]
    },
    {
      "cell_type": "code",
      "metadata": {
        "id": "2ASDaz4IoAOG",
        "colab": {
          "base_uri": "https://localhost:8080/"
        },
        "outputId": "23ebf94d-158b-4d77-f737-a97623a051c2"
      },
      "source": [
        "curso_ml.resumen()"
      ],
      "execution_count": null,
      "outputs": [
        {
          "output_type": "stream",
          "text": [
            "Curso Machine Learning, 8 clases pensadas para 3 alumnos\n",
            "Por el muy módico precio de 10 rupias. La ocupación actual es del 9.0%\n"
          ],
          "name": "stdout"
        }
      ]
    },
    {
      "cell_type": "code",
      "metadata": {
        "id": "ZSMSQRchoAOG",
        "colab": {
          "base_uri": "https://localhost:8080/"
        },
        "outputId": "cd893f16-0c53-4e05-f32a-949c182b1be1"
      },
      "source": [
        "curso_ml.alumnos"
      ],
      "execution_count": null,
      "outputs": [
        {
          "output_type": "execute_result",
          "data": {
            "text/plain": [
              "['Agatón', 'Erixímaco', 'Sócrates']"
            ]
          },
          "metadata": {
            "tags": []
          },
          "execution_count": 22
        }
      ]
    },
    {
      "cell_type": "markdown",
      "metadata": {
        "id": "Wz596ybEoAOG"
      },
      "source": [
        "Ejercicios:\n",
        "\n",
        "1- Defina una clase Punto que tome como parámetros x e y (las coordenadas) y constante que se puede instanciar correctamente.\n",
        "\n",
        "2- En Python existen los llamados métodos mágicos (magic methods) o dunder (Double Underscores). Estos métodos se caracterizan, justamente, por comenzar y terminar con \"\\_\\_\". Uno de los más comunes es el que permite darle estilo a la función **print**. Para que nuestro objeto entonces tenga un lindo print tenemos que definir una función \"\\_\\_str\\_\\_\" que sólo toma \"self\" como parámetro y que torne un string. Eso que retorna es el string que queremos que muestra cuando hagamos \"print\" del objeto. Dicho ésto, te invitamos a que lo intentes de la siguiente manera:\n",
        "\n",
        "a. Definí una función \"\\_\\_str\\_\\_\" que sólo toma self como parámetro.\n",
        "\n",
        "b. La función debe retornar el string que querés mostrar, recordá que podés usar los valores de \"x\" y de \"y\""
      ]
    },
    {
      "cell_type": "code",
      "metadata": {
        "id": "ZiFN2fItoAOG"
      },
      "source": [
        "class Punto:\n",
        "    def __init__(self, x, y):\n",
        "        self.x = x\n",
        "        self.y = y\n",
        "    \n",
        "    def __str__(self):\n",
        "        return f\"({self.x}, {self.y})\""
      ],
      "execution_count": null,
      "outputs": []
    },
    {
      "cell_type": "code",
      "metadata": {
        "id": "roq8rCtNoAOH",
        "colab": {
          "base_uri": "https://localhost:8080/"
        },
        "outputId": "aa8e90f9-c2b9-4a73-cd54-55c023d78084"
      },
      "source": [
        "punto = Punto(1.0, 2.0)\n",
        "print(punto)"
      ],
      "execution_count": null,
      "outputs": [
        {
          "output_type": "stream",
          "text": [
            "(1.0, 2.0)\n"
          ],
          "name": "stdout"
        }
      ]
    },
    {
      "cell_type": "markdown",
      "metadata": {
        "id": "tZhkGmH4zp4t"
      },
      "source": [
        "### Herencia\n",
        "La herencia se emplea cuando queremos que una clase tome los atributos y características de otra clase.\n",
        "En este caso, la clase derivada (Alumno) **hereda** atributos y métodos de la clase base (Persona).\n",
        "Para acceder a los métodos de la clase previa vamos a emplear el método reservado **super()**. Con este método podemos invocar el constructor y así acceder a los atributos de esa clase."
      ]
    },
    {
      "cell_type": "code",
      "metadata": {
        "id": "20SpMkEzDDNB"
      },
      "source": [
        "# Clase derivada\n",
        "class Alumno(Persona): #se pone entre parentesis la clase de la que se quiere heredar\n",
        "    def __init__(self, curso: Curso, *args): \n",
        "        \"\"\" \n",
        "        Alumno pertence a un Curso (una instancia de la clase Curso) y, además, \n",
        "        tiene otros atributos que pasaremos a la clase previa\n",
        "        \"\"\"\n",
        "        self.curso = curso\n",
        "        print(\"este es el contenido de *args\", *args, \"\\n\")\n",
        "        super().__init__(*args) # inicializamos la clase 'madre'. La llamamos \n",
        "        # usando super() y ejecutamos el constructor\n",
        "        # Nótese también que desempacamos args\n",
        "\n",
        "#Sobreescribir un método que existía en la clase base\n",
        "    def saludar(self): # Sobrecarga de métodos, ver abajo\n",
        "        super().saludar() # ejecutamos el método de Persona .saludar() y \n",
        "                         # agregamos más cosas a este método\n",
        "        print('Estoy cursando:')\n",
        "        self.curso.resumen()\n",
        "\n",
        "    def estudiar(self, dato): # También podemos definir nuevos métodos\n",
        "        self.conocimiento = dato"
      ],
      "execution_count": null,
      "outputs": []
    },
    {
      "cell_type": "markdown",
      "metadata": {
        "id": "ImQ2sFh2oAOH"
      },
      "source": [
        "La clase Persona cuenta con un método saludar() y para Alumno también definimos un método saludar(). Cuando instanciemos un Alumno y ejecutemos el método saludar() lo que va a ejecutarse es el método saludar() de Alumno, no de Persona. Esto no quita que el método saludar() de Alumno llame al de Persona. Además, vale la pena mencionar que los dos tienen los mismos parámetros (ninguno en este caso). Este patrón de diseño es lo que se llama sobrecarga de métodos o overriding."
      ]
    },
    {
      "cell_type": "code",
      "metadata": {
        "id": "eWN6A1VebZDF",
        "colab": {
          "base_uri": "https://localhost:8080/"
        },
        "outputId": "1f41ddbf-bf2f-4c4f-a53d-27a7b00478de"
      },
      "source": [
        "scott = Alumno(curso_python, 'Scott', 'Henderson', 49, 'sh@mail.com')\n",
        "scott.saludar()"
      ],
      "execution_count": null,
      "outputs": [
        {
          "output_type": "stream",
          "text": [
            "este es el contenido de *args Scott Henderson 49 sh@mail.com \n",
            "\n",
            "Hola mi nombre es Henderson, Scott y te dejo mi mail por si necesitás algo: sh@mail.com\n",
            "Estoy cursando:\n",
            "Curso Python, 6 clases pensadas para 2 alumnos\n",
            "Por el muy módico precio de 10 rupias. La ocupación actual es del 6.0%\n"
          ],
          "name": "stdout"
        }
      ]
    },
    {
      "cell_type": "code",
      "metadata": {
        "id": "yaActu69GauJ"
      },
      "source": [
        "scott.estudiar('Se puede heredar de otra clase y extender sus métodos')"
      ],
      "execution_count": null,
      "outputs": []
    },
    {
      "cell_type": "code",
      "metadata": {
        "id": "TxnvrBvsHGzW",
        "colab": {
          "base_uri": "https://localhost:8080/",
          "height": 35
        },
        "outputId": "5207c28c-efde-41a2-e0e8-76f6a0443113"
      },
      "source": [
        "scott.conocimiento"
      ],
      "execution_count": null,
      "outputs": [
        {
          "output_type": "execute_result",
          "data": {
            "application/vnd.google.colaboratory.intrinsic+json": {
              "type": "string"
            },
            "text/plain": [
              "'Se puede heredar de otra clase y extender sus métodos'"
            ]
          },
          "metadata": {
            "tags": []
          },
          "execution_count": 33
        }
      ]
    },
    {
      "cell_type": "markdown",
      "metadata": {
        "id": "4ptt9q1goAOI"
      },
      "source": [
        "Ejercicio:\n",
        "\n",
        "1- Listar cuáles son los atributos y los métodos de scott y especificar cuáles provienen de Persona y cuáles están definidos por ser Alumno."
      ]
    },
    {
      "cell_type": "code",
      "metadata": {
        "id": "b9du8JXmoAOI",
        "colab": {
          "base_uri": "https://localhost:8080/"
        },
        "outputId": "97e6b879-85c7-4ad6-ccb0-91d449ed6e9e"
      },
      "source": [
        "dir(scott) #Algunos son de Python, otros de Persona y otros de Alumno"
      ],
      "execution_count": null,
      "outputs": [
        {
          "output_type": "execute_result",
          "data": {
            "text/plain": [
              "['__class__',\n",
              " '__delattr__',\n",
              " '__dict__',\n",
              " '__dir__',\n",
              " '__doc__',\n",
              " '__eq__',\n",
              " '__format__',\n",
              " '__ge__',\n",
              " '__getattribute__',\n",
              " '__gt__',\n",
              " '__hash__',\n",
              " '__init__',\n",
              " '__init_subclass__',\n",
              " '__le__',\n",
              " '__lt__',\n",
              " '__module__',\n",
              " '__ne__',\n",
              " '__new__',\n",
              " '__reduce__',\n",
              " '__reduce_ex__',\n",
              " '__repr__',\n",
              " '__setattr__',\n",
              " '__sizeof__',\n",
              " '__str__',\n",
              " '__subclasshook__',\n",
              " '__weakref__',\n",
              " 'apellido',\n",
              " 'conocimiento',\n",
              " 'contacto',\n",
              " 'curso',\n",
              " 'edad',\n",
              " 'estudiar',\n",
              " 'nombre',\n",
              " 'nombre_completo',\n",
              " 'saludar']"
            ]
          },
          "metadata": {
            "tags": []
          },
          "execution_count": 34
        }
      ]
    },
    {
      "cell_type": "markdown",
      "metadata": {
        "id": "6BBCTXGskrBp"
      },
      "source": [
        "### Protección de acceso\n",
        "\n",
        "Podemos cambiar el acceso (publico, no publico, protejido) de los métodos y variables."
      ]
    },
    {
      "cell_type": "markdown",
      "metadata": {
        "id": "xY3x3-5Co8-F"
      },
      "source": [
        "Dos formas distintas de encapsulamiento:\n",
        "\n",
        "- `_nopublico`\n",
        "- `__protegido`\n",
        "\n",
        "Los atributos o método **no públicos** pueden ser accedidos desde el objeto y llevan el prefijo \"\\_\". La utilidad de este es indicarle al usuario que es una variable o método *privado*, de uso interno en el código de la clase y que **no está pensando que sea usado desde afuera**, por el usuario. \n",
        "\n",
        "Por otra parte, en el caso de usar como prefijo \"\\_\\_\" (doble \"\\_\") directamente vamos a **ocultar** la variable o método de la lista **de sugerencias** para el usuario y tampoco va a poder invocarlo desde el objeto. Por este motivo, decimos que el atributo o método está *protegido*."
      ]
    },
    {
      "cell_type": "code",
      "metadata": {
        "id": "-MxLTGBfkqTN"
      },
      "source": [
        "class Auto(): #tiene distintos metodos (def)\n",
        "\n",
        "    def __init__(self, color, marca, velocidad_maxima):\n",
        "        self.color = color\n",
        "        self.marca = marca\n",
        "        self.__velocidad_maxima = 200\n",
        "        \n",
        "        self.velocidad = 0 # DEFINO ACA ARRIBA COSAS QUE NECESITO ABAJO\n",
        "        self.__contador = 0 # kilometros recorridos\n",
        "    \n",
        "    def avanzar(self, horas=1, velocidad=10):\n",
        "        if self._chequear_velocidad(velocidad): #No hace falta agregar True, si \"es valida la info ingresada\"\n",
        "            self.velocidad = velocidad\n",
        "            print(f'avanzando durante {horas} horas')\n",
        "            self.__contador += horas*self.velocidad\n",
        "        else:\n",
        "            print(f\"Tu auto no puede llegar a tanta velocidad, el máximo es {self.__velocidad_maxima}\")\n",
        "    \n",
        "    def _chequear_velocidad(self, velocidad): #método no publico, no se le ofrece al usuario\n",
        "        es_valida = False                     #pero se puede usar \"hack de un juego\" hehe\n",
        "         if velocidad < self.__velocidad_maxima:\n",
        "            es_valida = True\n",
        "            if self.velocidad < velocidad:\n",
        "                print(\"Vas a acelerar!\")\n",
        "            else:\n",
        "                print(\"Vas a desacelerar!\")\n",
        "        else:\n",
        "            print(\"Tu motor no permite ir tan rápido\")\n",
        "            es_valida = False\n",
        "        return es_valida\n",
        "    \n",
        "    def status(self):\n",
        "        print(f\"Vas a una velocidad de {self.velocidad} y llevás {self.__contador} km. recorridos\")"
      ],
      "execution_count": null,
      "outputs": []
    },
    {
      "cell_type": "code",
      "metadata": {
        "id": "pHGKm6iondA5"
      },
      "source": [
        "superauto = Auto('rojo','Ferraudi', 200) #\"instansear\""
      ],
      "execution_count": null,
      "outputs": []
    },
    {
      "cell_type": "code",
      "metadata": {
        "id": "2VWZRkQ6pfZz",
        "colab": {
          "base_uri": "https://localhost:8080/"
        },
        "outputId": "5256d4c9-954d-455b-90f4-b538a07283a3"
      },
      "source": [
        "# Atributo no publ\n",
        "superauto.avanzar(10)"
      ],
      "execution_count": null,
      "outputs": [
        {
          "output_type": "stream",
          "text": [
            "Vas a desaceler!\n",
            "avanzando durante 10 horas\n"
          ],
          "name": "stdout"
        }
      ]
    },
    {
      "cell_type": "code",
      "metadata": {
        "id": "I2wznGARoAOK",
        "colab": {
          "base_uri": "https://localhost:8080/"
        },
        "outputId": "6d09c3d2-5770-411e-af1f-9ab7c39fbdfc"
      },
      "source": [
        "superauto.status()"
      ],
      "execution_count": null,
      "outputs": [
        {
          "output_type": "stream",
          "text": [
            "Vas a una velocidad de 10 y llevás 200 km. recorridos\n"
          ],
          "name": "stdout"
        }
      ]
    },
    {
      "cell_type": "code",
      "metadata": {
        "id": "WSafkUzHnp8y",
        "colab": {
          "base_uri": "https://localhost:8080/",
          "height": 178
        },
        "outputId": "dbf7ed96-41a6-4ab3-9c16-fef48974e7a1"
      },
      "source": [
        "# No se puede acceder a un atributo protegido\n",
        "superauto.__contador "
      ],
      "execution_count": null,
      "outputs": [
        {
          "output_type": "error",
          "ename": "AttributeError",
          "evalue": "ignored",
          "traceback": [
            "\u001b[0;31m---------------------------------------------------------------------------\u001b[0m",
            "\u001b[0;31mAttributeError\u001b[0m                            Traceback (most recent call last)",
            "\u001b[0;32m<ipython-input-41-1a30cd269de5>\u001b[0m in \u001b[0;36m<module>\u001b[0;34m()\u001b[0m\n\u001b[1;32m      1\u001b[0m \u001b[0;31m# No se puede acceder a un atributo protegido\u001b[0m\u001b[0;34m\u001b[0m\u001b[0;34m\u001b[0m\u001b[0;34m\u001b[0m\u001b[0m\n\u001b[0;32m----> 2\u001b[0;31m \u001b[0msuperauto\u001b[0m\u001b[0;34m.\u001b[0m\u001b[0m__contador\u001b[0m\u001b[0;34m\u001b[0m\u001b[0;34m\u001b[0m\u001b[0m\n\u001b[0m",
            "\u001b[0;31mAttributeError\u001b[0m: 'Auto' object has no attribute '__contador'"
          ]
        }
      ]
    },
    {
      "cell_type": "code",
      "metadata": {
        "id": "J6Uarbs1oAOK",
        "colab": {
          "base_uri": "https://localhost:8080/"
        },
        "outputId": "e9ed9555-0ca9-4327-cd87-0058c0f53026"
      },
      "source": [
        "# Pero sí se puede acceder a un método no público:\n",
        "superauto._chequear_velocidad(10)"
      ],
      "execution_count": null,
      "outputs": [
        {
          "output_type": "stream",
          "text": [
            "Vas a desaceler!\n"
          ],
          "name": "stdout"
        },
        {
          "output_type": "execute_result",
          "data": {
            "text/plain": [
              "True"
            ]
          },
          "metadata": {
            "tags": []
          },
          "execution_count": 42
        }
      ]
    },
    {
      "cell_type": "markdown",
      "metadata": {
        "id": "lEEF7tOioAOK"
      },
      "source": [
        "Ejercicio:\n",
        "\n",
        "A continuación se define una clase Linea. Esta clase toma como parámetros dos objetos Punto() (instancias de la clase que definieron antes). \n",
        "\n",
        "1- Agregar un método 'largo' que permita calcular el largo de la línea. Para ello vale la pena recordar que ésta se puede calcular como la hipotenusa del triángulo rectángulo que se forma con los dos puntos."
      ]
    },
    {
      "cell_type": "code",
      "metadata": {
        "id": "LzGM73iMVxw5"
      },
      "source": [
        "class Linea():\n",
        "  def __init__(self, p1=Punto, p2=Punto):\n",
        "    self.p1 = p1\n",
        "    self.p2 = p2\n",
        "\n",
        "  def largo (self):\n",
        "    largo = ((self.p1.x - self.p2.x)**2 + (self.p1.y - self.p2.y)**2)**0.5\n",
        "    return largo"
      ],
      "execution_count": null,
      "outputs": []
    },
    {
      "cell_type": "code",
      "metadata": {
        "id": "PQVz5-hKVx_b"
      },
      "source": [
        "p1 = Punto(4,1)\n",
        "p2 = Punto(7,5)"
      ],
      "execution_count": null,
      "outputs": []
    },
    {
      "cell_type": "markdown",
      "metadata": {
        "id": "luJHSLJ_oAOL"
      },
      "source": [
        "\\\\[ a = \\sqrt{b^2 + c^2} \\\\]"
      ]
    },
    {
      "cell_type": "markdown",
      "metadata": {
        "id": "RBm1vooxoAOL"
      },
      "source": [
        "<img src=\"https://static1.abc.es/media/ciencia/2019/10/31/TeoremadePitagorasABC-kW8F-U3032581527206JG-620x450@abc.jpg\" width=250/>"
      ]
    },
    {
      "cell_type": "markdown",
      "metadata": {
        "id": "WF92DejxoAOL"
      },
      "source": [
        "2- Agregar un método 'pendiente' que permita calcular la pendiente de la línea. Recordar que ésta se puede calcular como el cociente entre las diferencias de 'y' y de 'x'. \n",
        "\n",
        "La fórmula es :\n",
        "\\\\[ m = (y_2 - y_1)/(x_2 - x_1) \\\\]"
      ]
    },
    {
      "cell_type": "code",
      "metadata": {
        "id": "fss6Cb4loAOL"
      },
      "source": [
        "class Linea():\n",
        "    def __init__(self, p1=Punto, p2=Punto):\n",
        "      self.p1=p1\n",
        "      self.p2=p2\n",
        "\n",
        "    def largo(self):\n",
        "      largo = ((self.p1.x - self.p2.x)**2 + (self.p1.y - self.p2.y)**2)**0.5\n",
        "      return largo\n",
        "\n",
        "    def pendiente(self):\n",
        "      pendiente = (self.p2.y-self.p1.y)/(self.p2.x-self.p1.x)\n",
        "      return pendiente\n"
      ],
      "execution_count": null,
      "outputs": []
    },
    {
      "cell_type": "code",
      "metadata": {
        "id": "Op9KIVoKoAOL",
        "colab": {
          "base_uri": "https://localhost:8080/"
        },
        "outputId": "74cceb1f-8c88-4a38-b7e9-3d134495f544"
      },
      "source": [
        "l.pendiente()"
      ],
      "execution_count": null,
      "outputs": [
        {
          "output_type": "execute_result",
          "data": {
            "text/plain": [
              "1.3333333333333333"
            ]
          },
          "metadata": {
            "tags": []
          },
          "execution_count": 66
        }
      ]
    },
    {
      "cell_type": "code",
      "metadata": {
        "id": "KdeLe8vyoAOM"
      },
      "source": [
        ""
      ],
      "execution_count": null,
      "outputs": []
    },
    {
      "cell_type": "code",
      "metadata": {
        "id": "QcINkRVmoAOM"
      },
      "source": [
        ""
      ],
      "execution_count": null,
      "outputs": []
    },
    {
      "cell_type": "code",
      "metadata": {
        "id": "jnzxPFGDoAOM"
      },
      "source": [
        ""
      ],
      "execution_count": null,
      "outputs": []
    },
    {
      "cell_type": "markdown",
      "metadata": {
        "id": "emxRxsUUoAOM"
      },
      "source": [
        "## Métodos Especiales\n",
        "\n",
        "Las clases en Python cuentan con múltiples métodos especiales, los cuales se encuentran entre dobles guiones bajos __<metodo>__().\n",
        "\n",
        "Los métodos especiales más utilizados son <strong> \\_\\_init\\_\\_(), \\_\\_str\\_\\_() y \\_\\_del\\_\\_() </strong>.\n",
        "\n",
        "\\_\\_init\\_\\_ sirve para inicializar la clase y \\_\\_del\\_\\_ sirve para eliminar completamente el objeto del compilador.\n",
        "\n",
        "Veamos un ejemplo de uso de \\_\\_str\\_\\_. Una vez que definimos este método, responde a la sintaxis reservada de Python str()."
      ]
    },
    {
      "cell_type": "code",
      "metadata": {
        "id": "3W1O2ecqoAOM"
      },
      "source": [
        "# Clase derivada\n",
        "class Alumno(Persona):\n",
        "    def __init__(self, curso: Curso, *args): \n",
        "        \"\"\" \n",
        "        Alumno pertence a un Curso (una instancia de la clase Curso) y, además, tiene otros atributos que pasaremos\n",
        "        a la clase previa\n",
        "        \"\"\"\n",
        "        self.curso = curso\n",
        "        super().__init__(*args) # inicializamos la clase 'madre'. La llamamos usando super() y ejecutamos el constructor\n",
        "        # Nótese también que desempacamos args\n",
        "\n",
        "    def saludar(self): # Sobrecarga de métodos, ver abajo\n",
        "        super().saludar() # ejecutamos el método de Persona .saludar() y agregamos más cosas a este método\n",
        "        print('Estoy cursando:')\n",
        "        self.curso.resumen()\n",
        "\n",
        "    def estudiar(self, dato): # También podemos definir nuevos métodos\n",
        "        self.conocimiento = dato\n",
        "        \n",
        "    def __str__(self):\n",
        "        #Devuelve un string representativo del alumno\n",
        "        return f'Alumno {self.nombre_completo()}'\n",
        "    "
      ],
      "execution_count": null,
      "outputs": []
    },
    {
      "cell_type": "code",
      "metadata": {
        "id": "aALeu3KkoAOM"
      },
      "source": [
        "un_alumno = Alumno(curso_python, 'Scott', 'Henderson', 49, 'sh@mail.com')"
      ],
      "execution_count": null,
      "outputs": []
    },
    {
      "cell_type": "code",
      "metadata": {
        "id": "vND3kt85oAOM",
        "colab": {
          "base_uri": "https://localhost:8080/",
          "height": 35
        },
        "outputId": "95fcdb74-259c-409d-9fc9-8354dfc47447"
      },
      "source": [
        "str(un_alumno)"
      ],
      "execution_count": null,
      "outputs": [
        {
          "output_type": "execute_result",
          "data": {
            "application/vnd.google.colaboratory.intrinsic+json": {
              "type": "string"
            },
            "text/plain": [
              "'Alumno Henderson, Scott'"
            ]
          },
          "metadata": {
            "tags": []
          },
          "execution_count": 17
        }
      ]
    },
    {
      "cell_type": "markdown",
      "metadata": {
        "id": "w6F2ao1VoAON"
      },
      "source": [
        "## Métodos Estáticos\n",
        "\n",
        "¿Qué pasa si no queremos instanciar los objetos a la hora de usarlos? En algunos diseños, tiene sentido utilizar las clases como simples repositorios de métodos. Por ejemplo, si necesito resolver varias operaciones geométricas puedo crear una clase Geometria que contenga todos los métodos necesarios.\n",
        "\n",
        "Para crear este tipo de métodos en una clase utilizamos el **decorador** @staticmethod. \n",
        "\n"
      ]
    },
    {
      "cell_type": "code",
      "metadata": {
        "id": "ume2ItGwoAON"
      },
      "source": [
        "class Geomtria():\n",
        "    \"\"\"Resuelve operaciones geométricas\"\"\"\n",
        "    \n",
        "    @staticmethod\n",
        "    def pendiente(x1,y1,x2,y2): #no es necesario agregar self\n",
        "        return ((y2 - y1)/(x2-x1))\n",
        "    \n",
        "    @staticmethod\n",
        "    def area_circulo(radio):\n",
        "        return math.pi * (radio**2)"
      ],
      "execution_count": null,
      "outputs": []
    },
    {
      "cell_type": "code",
      "metadata": {
        "id": "ktui7gFOoAON",
        "colab": {
          "base_uri": "https://localhost:8080/"
        },
        "outputId": "576bb259-f6b0-48d0-ec4b-596d4c20ff6c"
      },
      "source": [
        "Geomtria.area_circulo(3)"
      ],
      "execution_count": null,
      "outputs": [
        {
          "output_type": "execute_result",
          "data": {
            "text/plain": [
              "28.274333882308138"
            ]
          },
          "metadata": {
            "tags": []
          },
          "execution_count": 68
        }
      ]
    },
    {
      "cell_type": "markdown",
      "metadata": {
        "id": "Cp_yWzd8oAON"
      },
      "source": [
        "## Duck typing y monkey patching\n",
        "\n",
        "Dos características de la programación orientada a objetos con Python son el duck tiping y el monkey patching. Este tipo de flexibilidad es el que le permitió a Python crecer tanto en su adopción porque reducen la cantidad de palabras que es necesario escribir para desarrollar código, lo cual ahorra tiempo y también disminuyen la complejidad.\n",
        "\n",
        "### Duck typing\n",
        "\n"
      ]
    },
    {
      "cell_type": "code",
      "metadata": {
        "id": "s7CEJ20_oAON"
      },
      "source": [
        "class ElHobbit:\n",
        "    \n",
        "    def __init__(self,nombre):\n",
        "        self.nombre = nombre\n",
        "    \n",
        "    def __len__(self):\n",
        "        return 95022\n",
        "    \n",
        "    def saludar(self):\n",
        "        return f'Hola soy {self.nombre}'\n",
        "\n",
        "el_hobbit = ElHobbit('Frodo')"
      ],
      "execution_count": null,
      "outputs": []
    },
    {
      "cell_type": "code",
      "metadata": {
        "id": "P5olJ3S6oAOO",
        "colab": {
          "base_uri": "https://localhost:8080/"
        },
        "outputId": "80f2ae2a-d3aa-443a-ad22-6fb0d39a11ae"
      },
      "source": [
        "len(el_hobbit)"
      ],
      "execution_count": null,
      "outputs": [
        {
          "output_type": "execute_result",
          "data": {
            "text/plain": [
              "95022"
            ]
          },
          "metadata": {
            "tags": []
          },
          "execution_count": 70
        }
      ]
    },
    {
      "cell_type": "code",
      "metadata": {
        "id": "rN8-jDvEoAOO"
      },
      "source": [
        "mi_str = \"Hello World\"\n",
        "mi_list = [34, 54, 65, 78]\n",
        "mi_dict = {\"a\": 123, \"b\": 456, \"c\": 789}"
      ],
      "execution_count": null,
      "outputs": []
    },
    {
      "cell_type": "markdown",
      "metadata": {
        "id": "wwRFx8vGoAOO"
      },
      "source": [
        "<i> “If it walks like a duck, and it quacks like a duck, then it must be a duck.”</i>\n",
        "\n",
        "Duck typing significa que a diferencia de otros lenguajes, las **funciones especiales** no están definidas para una lista específica de clases y tipos, si no que se pueden usar para **cualquier objeto** (string, lista de numero, de letras etc.) que las implemente. Esto no es así para la mayoría de los lenguajes.   "
      ]
    },
    {
      "cell_type": "code",
      "metadata": {
        "id": "cfBeoAAYoAOO",
        "colab": {
          "base_uri": "https://localhost:8080/"
        },
        "outputId": "2959b628-d10a-4501-8434-ee120f217a7d"
      },
      "source": [
        "len(mi_str)\n",
        "len(mi_list)\n",
        "len(mi_dict)\n",
        "len(el_hobbit)"
      ],
      "execution_count": null,
      "outputs": [
        {
          "output_type": "execute_result",
          "data": {
            "text/plain": [
              "95022"
            ]
          },
          "metadata": {
            "tags": []
          },
          "execution_count": 72
        }
      ]
    },
    {
      "cell_type": "code",
      "metadata": {
        "id": "PMNTPsO6oAOO"
      },
      "source": [
        "mi_int = 7\n",
        "mi_float = 42.3\n",
        "# para enteros o puntos flotantes no tienen definida la funcion len (original)"
      ],
      "execution_count": null,
      "outputs": []
    },
    {
      "cell_type": "code",
      "metadata": {
        "id": "iBrmhDD1oAOP",
        "colab": {
          "base_uri": "https://localhost:8080/",
          "height": 178
        },
        "outputId": "b7079022-71aa-464e-b126-2c4ef44c6675"
      },
      "source": [
        "len(mi_int)\n",
        "len(mi_float)"
      ],
      "execution_count": null,
      "outputs": [
        {
          "output_type": "error",
          "ename": "TypeError",
          "evalue": "ignored",
          "traceback": [
            "\u001b[0;31m---------------------------------------------------------------------------\u001b[0m",
            "\u001b[0;31mTypeError\u001b[0m                                 Traceback (most recent call last)",
            "\u001b[0;32m<ipython-input-74-5194b993becf>\u001b[0m in \u001b[0;36m<module>\u001b[0;34m()\u001b[0m\n\u001b[0;32m----> 1\u001b[0;31m \u001b[0mlen\u001b[0m\u001b[0;34m(\u001b[0m\u001b[0mmi_int\u001b[0m\u001b[0;34m)\u001b[0m\u001b[0;34m\u001b[0m\u001b[0;34m\u001b[0m\u001b[0m\n\u001b[0m\u001b[1;32m      2\u001b[0m \u001b[0mlen\u001b[0m\u001b[0;34m(\u001b[0m\u001b[0mmi_float\u001b[0m\u001b[0;34m)\u001b[0m\u001b[0;34m\u001b[0m\u001b[0;34m\u001b[0m\u001b[0m\n",
            "\u001b[0;31mTypeError\u001b[0m: object of type 'int' has no len()"
          ]
        }
      ]
    },
    {
      "cell_type": "markdown",
      "metadata": {
        "id": "3iHykcTnoAOP"
      },
      "source": [
        "## Monkey Patching\n",
        "\n",
        "Guerrilla, gorilla, ¿monkey?... Este término viene de uno anterior, \"guerrilla patching\", que hace referencia a emparchar el código rápido y cuando es necesario. \n",
        "\n",
        "Se refiere a la posibilidad en Python de sobreescribir clases después de haberlas instanciado y por qué no también la funcionalidad de los módulos. "
      ]
    },
    {
      "cell_type": "code",
      "metadata": {
        "id": "592B7pm_oAOP",
        "colab": {
          "base_uri": "https://localhost:8080/",
          "height": 35
        },
        "outputId": "c543aa79-cf4e-4203-c9d4-aa7897b8cf33"
      },
      "source": [
        "el_hobbit.saludar()"
      ],
      "execution_count": null,
      "outputs": [
        {
          "output_type": "execute_result",
          "data": {
            "application/vnd.google.colaboratory.intrinsic+json": {
              "type": "string"
            },
            "text/plain": [
              "'Hola soy Frodo'"
            ]
          },
          "metadata": {
            "tags": []
          },
          "execution_count": 75
        }
      ]
    },
    {
      "cell_type": "code",
      "metadata": {
        "id": "Icm-Ni3OoAOP"
      },
      "source": [
        "def saludo_largo(self):\n",
        "    return f'Hola mi nombre es {self.nombre}'"
      ],
      "execution_count": null,
      "outputs": []
    },
    {
      "cell_type": "code",
      "metadata": {
        "id": "YfHG3-u1oAOP"
      },
      "source": [
        "ElHobbit.saludar = saludo_largo # Se accede a clase y nombre de metodo y se iguala a lo nuevo"
      ],
      "execution_count": null,
      "outputs": []
    },
    {
      "cell_type": "code",
      "metadata": {
        "id": "7E9aawBjoAOP",
        "colab": {
          "base_uri": "https://localhost:8080/",
          "height": 35
        },
        "outputId": "a9a36b3b-87e8-4d33-d0da-5998403750ce"
      },
      "source": [
        "el_hobbit.saludar()"
      ],
      "execution_count": null,
      "outputs": [
        {
          "output_type": "execute_result",
          "data": {
            "application/vnd.google.colaboratory.intrinsic+json": {
              "type": "string"
            },
            "text/plain": [
              "'Hola mi nombre es Frodo'"
            ]
          },
          "metadata": {
            "tags": []
          },
          "execution_count": 78
        }
      ]
    },
    {
      "cell_type": "markdown",
      "metadata": {
        "id": "ZpjCAqyJoAOQ"
      },
      "source": [
        "Esto es especialmente útil cuando queremos sobre-escribir ligeramente módulos hechos por terceros (¡o por nosotros mismos en otro momento!) "
      ]
    },
    {
      "cell_type": "code",
      "metadata": {
        "id": "YQsVkiSvoAOQ"
      },
      "source": [
        "import math"
      ],
      "execution_count": null,
      "outputs": []
    },
    {
      "cell_type": "code",
      "metadata": {
        "id": "qosML8yFoAOQ",
        "colab": {
          "base_uri": "https://localhost:8080/"
        },
        "outputId": "a138d3f6-3567-4909-edda-c7342783ae59"
      },
      "source": [
        "math.pi"
      ],
      "execution_count": null,
      "outputs": [
        {
          "output_type": "execute_result",
          "data": {
            "text/plain": [
              "3.141592653589793"
            ]
          },
          "metadata": {
            "tags": []
          },
          "execution_count": 80
        }
      ]
    },
    {
      "cell_type": "code",
      "metadata": {
        "id": "3chP-_4poAOQ"
      },
      "source": [
        "math.pi = 2"
      ],
      "execution_count": null,
      "outputs": []
    },
    {
      "cell_type": "code",
      "metadata": {
        "id": "JCnpA0zsoAOR",
        "colab": {
          "base_uri": "https://localhost:8080/"
        },
        "outputId": "56c767f4-dbde-48da-a276-f27c96fc8ad3"
      },
      "source": [
        "math.pi"
      ],
      "execution_count": null,
      "outputs": [
        {
          "output_type": "execute_result",
          "data": {
            "text/plain": [
              "2"
            ]
          },
          "metadata": {
            "tags": []
          },
          "execution_count": 82
        }
      ]
    },
    {
      "cell_type": "markdown",
      "metadata": {
        "id": "q6OIDfBcoAOR"
      },
      "source": [
        "Los cambios se sobre-escriben si REINICIAMOS EL KERNEL y volvemos a importar el módulo\n",
        "\n",
        "(Entorno de ejecucion + reiniciar enotrno de ejecucion)"
      ]
    },
    {
      "cell_type": "code",
      "metadata": {
        "id": "QwVErtZUoAOR",
        "colab": {
          "base_uri": "https://localhost:8080/"
        },
        "outputId": "16a73bba-e5a7-4e0d-995a-ecfbeaf944dc"
      },
      "source": [
        "import math\n",
        "math.pi"
      ],
      "execution_count": null,
      "outputs": [
        {
          "output_type": "execute_result",
          "data": {
            "text/plain": [
              "3.141592653589793"
            ]
          },
          "metadata": {
            "tags": []
          },
          "execution_count": 1
        }
      ]
    }
  ]
}